{
 "cells": [
  {
   "cell_type": "markdown",
   "metadata": {
    "pycharm": {}
   },
   "source": [
    "# Functional Class and Curvature Analysis\n",
    "This notebook illustrates the complete analysis example using Here Map Content (HMC) attributes.\n",
    "\n",
    "### Dependencies\n",
    "* Catalogs: [rib-2](https://platform.here.com/data/hrn:here:data::olp-here:rib-2)\n",
    "* Layers: [Topology Geometry](https://platform.here.com/data/hrn:here:data::olp-here:rib-2/topology-geometry), [Road Attributes](https://platform.here.com/data/hrn:here:data::olp-here:rib-2/road-attributes), [ADAS Attributes](https://platform.here.com/data/hrn:here:data::olp-here:rib-2/adas-attributes)\n",
    "\n",
    "### Workflow\n",
    "* Start with a bounding box that contains portions of two tiles\n",
    "* Extract geometry for the two tiles\n",
    "* Keep only the segments that are (at least partially) in original bounding box\n",
    "* Extract Functional Class (FC) attributes for those segments\n",
    "* Select segments with FC = 3, 4, and 5\n",
    "* Extract curvature for the survived segments\n",
    "* Analyze average curvature\n",
    "* Drop segments below the average curvature"
   ]
  },
  {
   "cell_type": "markdown",
   "metadata": {
    "pycharm": {}
   },
   "source": [
    "## Get partition ID's from a given bounding box"
   ]
  },
  {
   "cell_type": "code",
   "execution_count": 1,
   "metadata": {
    "pycharm": {
     "is_executing": false
    }
   },
   "outputs": [
    {
     "name": "stdout",
     "output_type": "stream",
     "text": [
      "tileIds: [23618402, 23618403]\n"
     ]
    }
   ],
   "source": [
    "from here.geotiles.heretile import in_bounding_box\n",
    "from shapely.geometry import Point\n",
    "\n",
    "zoom_level = 12\n",
    "west = 13.41\n",
    "east = 13.49\n",
    "south = 52.50\n",
    "north = 52.54\n",
    "center = Point(west, south)\n",
    "tileIds = list(in_bounding_box(west=west, south=south, east=east, north=north, level=zoom_level))\n",
    "print(\"tileIds:\", tileIds)\n",
    "\n",
    "# partition ID's: string representation of tile IDs - this will be used for extracting attributes later\n",
    "pids = [str(tile) for tile in tileIds]"
   ]
  },
  {
   "cell_type": "markdown",
   "metadata": {},
   "source": [
    "## Visualize the bounding box and tile boundaries\n",
    "- bounding box: Red\n",
    "- tile boundaries: Gray"
   ]
  },
  {
   "cell_type": "code",
   "execution_count": 2,
   "metadata": {},
   "outputs": [
    {
     "data": {
      "application/vnd.jupyter.widget-view+json": {
       "model_id": "637c50e5f6b34f1ab48a3b1607bd7c81",
       "version_major": 2,
       "version_minor": 0
      },
      "text/plain": [
       "Map(center=[52.5, 13.41], controls=(LayersControl(options=['position']), ZoomControl(options=['position', 'zoo…"
      ]
     },
     "metadata": {},
     "output_type": "display_data"
    }
   ],
   "source": [
    "from here.inspector import inspect\n",
    "from here.inspector.styles import Color\n",
    "from shapely.geometry import Polygon\n",
    "\n",
    "# construct a bounding box geojson\n",
    "bb_polygon = Polygon([(west, south), (west, north), (east, north), (east, south), (west, south)])\n",
    "\n",
    "# create inspect object with tile boundaries and the bounding box\n",
    "inspect(layers={\"bounding_box\": [bb_polygon]},\n",
    "        tiles=tileIds,\n",
    "        center=center,\n",
    "        zoom=11,\n",
    "        layers_style={\"bounding_box\": Color.RED},\n",
    "        tiles_style=Color.GRAY)"
   ]
  },
  {
   "cell_type": "markdown",
   "metadata": {},
   "source": [
    "## Extract topology geometry and clip by bounding box"
   ]
  },
  {
   "cell_type": "code",
   "execution_count": 3,
   "metadata": {},
   "outputs": [],
   "source": [
    "from here.platform import Platform\n",
    "from here.content.hmc.hmc import HMC\n",
    "from here.geopandas_adapter import GeoPandasAdapter\n",
    "import pandas as pd\n",
    "import geopandas as gpd\n",
    "\n",
    "# create HMC object\n",
    "hmc = HMC(Platform(adapter=GeoPandasAdapter()))"
   ]
  },
  {
   "cell_type": "code",
   "execution_count": 4,
   "metadata": {},
   "outputs": [
    {
     "data": {
      "text/html": [
       "<div>\n",
       "<style scoped>\n",
       "    .dataframe tbody tr th:only-of-type {\n",
       "        vertical-align: middle;\n",
       "    }\n",
       "\n",
       "    .dataframe tbody tr th {\n",
       "        vertical-align: top;\n",
       "    }\n",
       "\n",
       "    .dataframe thead th {\n",
       "        text-align: right;\n",
       "    }\n",
       "</style>\n",
       "<table border=\"1\" class=\"dataframe\">\n",
       "  <thead>\n",
       "    <tr style=\"text-align: right;\">\n",
       "      <th></th>\n",
       "      <th>partitionId</th>\n",
       "      <th>identifier</th>\n",
       "      <th>start_node_ref</th>\n",
       "      <th>end_node_ref</th>\n",
       "      <th>geometry</th>\n",
       "      <th>length</th>\n",
       "    </tr>\n",
       "  </thead>\n",
       "  <tbody>\n",
       "    <tr>\n",
       "      <th>0</th>\n",
       "      <td>23618402</td>\n",
       "      <td>here:cm:segment:100005273</td>\n",
       "      <td>partition_name: \"23618402\"\\nidentifier: \"here:...</td>\n",
       "      <td>partition_name: \"23618402\"\\nidentifier: \"here:...</td>\n",
       "      <td>LINESTRING (13.44399 52.51531, 13.44405 52.515...</td>\n",
       "      <td>53.97453</td>\n",
       "    </tr>\n",
       "    <tr>\n",
       "      <th>1</th>\n",
       "      <td>23618402</td>\n",
       "      <td>here:cm:segment:100005274</td>\n",
       "      <td>partition_name: \"23618402\"\\nidentifier: \"here:...</td>\n",
       "      <td>partition_name: \"23618402\"\\nidentifier: \"here:...</td>\n",
       "      <td>LINESTRING (13.44347 52.51514, 13.44399 52.51531)</td>\n",
       "      <td>40.05030</td>\n",
       "    </tr>\n",
       "    <tr>\n",
       "      <th>2</th>\n",
       "      <td>23618402</td>\n",
       "      <td>here:cm:segment:100005285</td>\n",
       "      <td>partition_name: \"23618402\"\\nidentifier: \"here:...</td>\n",
       "      <td>partition_name: \"23618402\"\\nidentifier: \"here:...</td>\n",
       "      <td>LINESTRING (13.40016 52.49682, 13.39965 52.496...</td>\n",
       "      <td>105.45831</td>\n",
       "    </tr>\n",
       "    <tr>\n",
       "      <th>3</th>\n",
       "      <td>23618402</td>\n",
       "      <td>here:cm:segment:100005286</td>\n",
       "      <td>partition_name: \"23618402\"\\nidentifier: \"here:...</td>\n",
       "      <td>partition_name: \"23618402\"\\nidentifier: \"here:...</td>\n",
       "      <td>LINESTRING (13.40222 52.49641, 13.40076 52.49645)</td>\n",
       "      <td>99.25682</td>\n",
       "    </tr>\n",
       "    <tr>\n",
       "      <th>4</th>\n",
       "      <td>23618402</td>\n",
       "      <td>here:cm:segment:100005287</td>\n",
       "      <td>partition_name: \"23618402\"\\nidentifier: \"here:...</td>\n",
       "      <td>partition_name: \"23618402\"\\nidentifier: \"here:...</td>\n",
       "      <td>LINESTRING (13.40076 52.49645, 13.40018 52.49646)</td>\n",
       "      <td>39.40682</td>\n",
       "    </tr>\n",
       "    <tr>\n",
       "      <th>...</th>\n",
       "      <td>...</td>\n",
       "      <td>...</td>\n",
       "      <td>...</td>\n",
       "      <td>...</td>\n",
       "      <td>...</td>\n",
       "      <td>...</td>\n",
       "    </tr>\n",
       "    <tr>\n",
       "      <th>8804</th>\n",
       "      <td>23618403</td>\n",
       "      <td>here:cm:segment:99973024</td>\n",
       "      <td>partition_name: \"23618403\"\\nidentifier: \"here:...</td>\n",
       "      <td>partition_name: \"23618403\"\\nidentifier: \"here:...</td>\n",
       "      <td>LINESTRING (13.49611 52.54410, 13.49560 52.54424)</td>\n",
       "      <td>37.94505</td>\n",
       "    </tr>\n",
       "    <tr>\n",
       "      <th>8805</th>\n",
       "      <td>23618403</td>\n",
       "      <td>here:cm:segment:99973086</td>\n",
       "      <td>partition_name: \"23618403\"\\nidentifier: \"here:...</td>\n",
       "      <td>partition_name: \"23618403\"\\nidentifier: \"here:...</td>\n",
       "      <td>LINESTRING (13.45018 52.47677, 13.45094 52.47736)</td>\n",
       "      <td>83.52769</td>\n",
       "    </tr>\n",
       "    <tr>\n",
       "      <th>8806</th>\n",
       "      <td>23618403</td>\n",
       "      <td>here:cm:segment:99983233</td>\n",
       "      <td>partition_name: \"23618403\"\\nidentifier: \"here:...</td>\n",
       "      <td>partition_name: \"23618403\"\\nidentifier: \"here:...</td>\n",
       "      <td>LINESTRING (13.51952 52.49486, 13.51892 52.49584)</td>\n",
       "      <td>116.41634</td>\n",
       "    </tr>\n",
       "    <tr>\n",
       "      <th>8807</th>\n",
       "      <td>23618403</td>\n",
       "      <td>here:cm:segment:99990525</td>\n",
       "      <td>partition_name: \"23618403\"\\nidentifier: \"here:...</td>\n",
       "      <td>partition_name: \"23618403\"\\nidentifier: \"here:...</td>\n",
       "      <td>LINESTRING (13.53283 52.48746, 13.53313 52.487...</td>\n",
       "      <td>457.78907</td>\n",
       "    </tr>\n",
       "    <tr>\n",
       "      <th>8808</th>\n",
       "      <td>23618403</td>\n",
       "      <td>here:cm:segment:99994957</td>\n",
       "      <td>partition_name: \"23618403\"\\nidentifier: \"here:...</td>\n",
       "      <td>partition_name: \"23618403\"\\nidentifier: \"here:...</td>\n",
       "      <td>LINESTRING (13.46075 52.52960, 13.46084 52.52969)</td>\n",
       "      <td>11.73051</td>\n",
       "    </tr>\n",
       "  </tbody>\n",
       "</table>\n",
       "<p>22710 rows × 6 columns</p>\n",
       "</div>"
      ],
      "text/plain": [
       "      partitionId                 identifier  \\\n",
       "0        23618402  here:cm:segment:100005273   \n",
       "1        23618402  here:cm:segment:100005274   \n",
       "2        23618402  here:cm:segment:100005285   \n",
       "3        23618402  here:cm:segment:100005286   \n",
       "4        23618402  here:cm:segment:100005287   \n",
       "...           ...                        ...   \n",
       "8804     23618403   here:cm:segment:99973024   \n",
       "8805     23618403   here:cm:segment:99973086   \n",
       "8806     23618403   here:cm:segment:99983233   \n",
       "8807     23618403   here:cm:segment:99990525   \n",
       "8808     23618403   here:cm:segment:99994957   \n",
       "\n",
       "                                         start_node_ref  \\\n",
       "0     partition_name: \"23618402\"\\nidentifier: \"here:...   \n",
       "1     partition_name: \"23618402\"\\nidentifier: \"here:...   \n",
       "2     partition_name: \"23618402\"\\nidentifier: \"here:...   \n",
       "3     partition_name: \"23618402\"\\nidentifier: \"here:...   \n",
       "4     partition_name: \"23618402\"\\nidentifier: \"here:...   \n",
       "...                                                 ...   \n",
       "8804  partition_name: \"23618403\"\\nidentifier: \"here:...   \n",
       "8805  partition_name: \"23618403\"\\nidentifier: \"here:...   \n",
       "8806  partition_name: \"23618403\"\\nidentifier: \"here:...   \n",
       "8807  partition_name: \"23618403\"\\nidentifier: \"here:...   \n",
       "8808  partition_name: \"23618403\"\\nidentifier: \"here:...   \n",
       "\n",
       "                                           end_node_ref  \\\n",
       "0     partition_name: \"23618402\"\\nidentifier: \"here:...   \n",
       "1     partition_name: \"23618402\"\\nidentifier: \"here:...   \n",
       "2     partition_name: \"23618402\"\\nidentifier: \"here:...   \n",
       "3     partition_name: \"23618402\"\\nidentifier: \"here:...   \n",
       "4     partition_name: \"23618402\"\\nidentifier: \"here:...   \n",
       "...                                                 ...   \n",
       "8804  partition_name: \"23618403\"\\nidentifier: \"here:...   \n",
       "8805  partition_name: \"23618403\"\\nidentifier: \"here:...   \n",
       "8806  partition_name: \"23618403\"\\nidentifier: \"here:...   \n",
       "8807  partition_name: \"23618403\"\\nidentifier: \"here:...   \n",
       "8808  partition_name: \"23618403\"\\nidentifier: \"here:...   \n",
       "\n",
       "                                               geometry     length  \n",
       "0     LINESTRING (13.44399 52.51531, 13.44405 52.515...   53.97453  \n",
       "1     LINESTRING (13.44347 52.51514, 13.44399 52.51531)   40.05030  \n",
       "2     LINESTRING (13.40016 52.49682, 13.39965 52.496...  105.45831  \n",
       "3     LINESTRING (13.40222 52.49641, 13.40076 52.49645)   99.25682  \n",
       "4     LINESTRING (13.40076 52.49645, 13.40018 52.49646)   39.40682  \n",
       "...                                                 ...        ...  \n",
       "8804  LINESTRING (13.49611 52.54410, 13.49560 52.54424)   37.94505  \n",
       "8805  LINESTRING (13.45018 52.47677, 13.45094 52.47736)   83.52769  \n",
       "8806  LINESTRING (13.51952 52.49486, 13.51892 52.49584)  116.41634  \n",
       "8807  LINESTRING (13.53283 52.48746, 13.53313 52.487...  457.78907  \n",
       "8808  LINESTRING (13.46075 52.52960, 13.46084 52.52969)   11.73051  \n",
       "\n",
       "[22710 rows x 6 columns]"
      ]
     },
     "execution_count": 4,
     "metadata": {},
     "output_type": "execute_result"
    }
   ],
   "source": [
    "# get segments dataframe from given tiles\n",
    "dfs = []\n",
    "for tid in tileIds:\n",
    "    dfs.append(hmc.topology_geometry.get_segments(tid))\n",
    "segment_df = pd.concat(dfs)\n",
    "segment_df"
   ]
  },
  {
   "cell_type": "markdown",
   "metadata": {},
   "source": [
    "### Clip segments by the bounding box\n",
    "Since the geometry objects for the segment dataframe is LineString, the intersection method will do the clipping. See the documentation of shapely: https://shapely.readthedocs.io/en/stable/manual.html"
   ]
  },
  {
   "cell_type": "code",
   "execution_count": 5,
   "metadata": {},
   "outputs": [],
   "source": [
    "clipped_segments = segment_df.intersection(bb_polygon)\n",
    "segment_in_bb = segment_df[clipped_segments.apply(lambda x: x.length != 0)]"
   ]
  },
  {
   "cell_type": "code",
   "execution_count": 6,
   "metadata": {},
   "outputs": [
    {
     "data": {
      "application/vnd.jupyter.widget-view+json": {
       "model_id": "b076f8e9aca64ad1bde2e0e367831013",
       "version_major": 2,
       "version_minor": 0
      },
      "text/plain": [
       "Map(center=[52.5146484375, 13.447265625], controls=(LayersControl(options=['position']), ZoomControl(options=[…"
      ]
     },
     "metadata": {},
     "output_type": "display_data"
    }
   ],
   "source": [
    "# show the clipped segments and original tile boundaries\n",
    "inspect(features=segment_in_bb[\"geometry\"], tiles=tileIds, tiles_style=Color.GRAY)"
   ]
  },
  {
   "cell_type": "markdown",
   "metadata": {},
   "source": [
    "## Get functional class attribute"
   ]
  },
  {
   "cell_type": "code",
   "execution_count": 7,
   "metadata": {},
   "outputs": [],
   "source": [
    "# get functional_class attributes\n",
    "fcs = []\n",
    "for pid in pids:\n",
    "    fcs.append(hmc.road_attributes.get_attribute(pid, \"functional_class\"))\n",
    "fc_df = pd.concat(fcs)\n",
    "\n",
    "# create a column called fc from attribute and drop attribute column\n",
    "fc_df[\"fc\"] = fc_df.apply(lambda x: x[\"attribute\"].functional_class, axis=1)\n",
    "fc_df = fc_df.drop([\"attribute\"], axis=1)"
   ]
  },
  {
   "cell_type": "markdown",
   "metadata": {},
   "source": [
    "## Select FC = 3, 4, or 5"
   ]
  },
  {
   "cell_type": "code",
   "execution_count": 8,
   "metadata": {},
   "outputs": [],
   "source": [
    "# select FC = 3, 4, 5\n",
    "fc345_df = fc_df[fc_df[\"fc\"] > 2]"
   ]
  },
  {
   "cell_type": "code",
   "execution_count": 9,
   "metadata": {},
   "outputs": [
    {
     "data": {
      "text/plain": [
       "partitionId         object\n",
       "identifier          object\n",
       "start_node_ref      object\n",
       "end_node_ref        object\n",
       "geometry          geometry\n",
       "length             float64\n",
       "dtype: object"
      ]
     },
     "execution_count": 9,
     "metadata": {},
     "output_type": "execute_result"
    }
   ],
   "source": [
    "# change partitionId type as string to be consistent with the one in attributes \n",
    "segment_in_bb = segment_in_bb.astype({\"partitionId\": str})\n",
    "segment_in_bb.dtypes"
   ]
  },
  {
   "cell_type": "code",
   "execution_count": 10,
   "metadata": {},
   "outputs": [
    {
     "data": {
      "text/plain": [
       "Index(['partitionId', 'start_node_ref', 'end_node_ref', 'geometry', 'length',\n",
       "       'segmentId', 'direction', 'start_offset', 'end_offset', 'fc'],\n",
       "      dtype='object')"
      ]
     },
     "execution_count": 10,
     "metadata": {},
     "output_type": "execute_result"
    }
   ],
   "source": [
    "# join two dataframe by partitionId, segmentId\n",
    "segment_fc345_df = segment_in_bb.merge(fc345_df, how=\"inner\", left_on=[\"partitionId\", \"identifier\"],\n",
    "                                       right_on=[\"partitionId\", \"segmentId\"])\n",
    "segment_fc345_df = segment_fc345_df.drop(\"identifier\", axis=1)\n",
    "segment_fc345_df.columns"
   ]
  },
  {
   "cell_type": "markdown",
   "metadata": {},
   "source": [
    "## Show the segments with FC = 3, 4, or 5"
   ]
  },
  {
   "cell_type": "code",
   "execution_count": 11,
   "metadata": {},
   "outputs": [
    {
     "data": {
      "application/vnd.jupyter.widget-view+json": {
       "model_id": "93178681c8fc4e6b8d4ead0913df0995",
       "version_major": 2,
       "version_minor": 0
      },
      "text/plain": [
       "Map(center=[52.519724999999994, 13.452165], controls=(LayersControl(options=['position']), ZoomControl(options…"
      ]
     },
     "metadata": {},
     "output_type": "display_data"
    }
   ],
   "source": [
    "inspect(segment_fc345_df[\"geometry\"])"
   ]
  },
  {
   "cell_type": "markdown",
   "metadata": {},
   "source": [
    "## Show different colors for each FC"
   ]
  },
  {
   "cell_type": "code",
   "execution_count": 12,
   "metadata": {},
   "outputs": [
    {
     "data": {
      "application/vnd.jupyter.widget-view+json": {
       "model_id": "cf811423c82c43799bc3d710965f6caa",
       "version_major": 2,
       "version_minor": 0
      },
      "text/plain": [
       "Map(center=[52.519724999999994, 13.452165], controls=(LayersControl(options=['position']), ZoomControl(options…"
      ]
     },
     "metadata": {},
     "output_type": "display_data"
    }
   ],
   "source": [
    "fcs = {}\n",
    "for fc, gdf in segment_fc345_df.groupby(\"fc\"):\n",
    "    fcs[fc] = gdf[\"geometry\"]\n",
    "inspect(layers=fcs)"
   ]
  },
  {
   "cell_type": "markdown",
   "metadata": {},
   "source": [
    "## Extract curvatures"
   ]
  },
  {
   "cell_type": "code",
   "execution_count": 13,
   "metadata": {},
   "outputs": [
    {
     "data": {
      "text/html": [
       "<div>\n",
       "<style scoped>\n",
       "    .dataframe tbody tr th:only-of-type {\n",
       "        vertical-align: middle;\n",
       "    }\n",
       "\n",
       "    .dataframe tbody tr th {\n",
       "        vertical-align: top;\n",
       "    }\n",
       "\n",
       "    .dataframe thead th {\n",
       "        text-align: right;\n",
       "    }\n",
       "</style>\n",
       "<table border=\"1\" class=\"dataframe\">\n",
       "  <thead>\n",
       "    <tr style=\"text-align: right;\">\n",
       "      <th></th>\n",
       "      <th>partitionId</th>\n",
       "      <th>segmentId</th>\n",
       "      <th>offset</th>\n",
       "      <th>curvature</th>\n",
       "    </tr>\n",
       "  </thead>\n",
       "  <tbody>\n",
       "    <tr>\n",
       "      <th>0</th>\n",
       "      <td>23618402</td>\n",
       "      <td>here:cm:segment:146671023</td>\n",
       "      <td>0.111594</td>\n",
       "      <td>11014</td>\n",
       "    </tr>\n",
       "    <tr>\n",
       "      <th>1</th>\n",
       "      <td>23618402</td>\n",
       "      <td>here:cm:segment:146671023</td>\n",
       "      <td>0.246823</td>\n",
       "      <td>-202657</td>\n",
       "    </tr>\n",
       "    <tr>\n",
       "      <th>2</th>\n",
       "      <td>23618402</td>\n",
       "      <td>here:cm:segment:146671023</td>\n",
       "      <td>0.262919</td>\n",
       "      <td>-186693</td>\n",
       "    </tr>\n",
       "    <tr>\n",
       "      <th>3</th>\n",
       "      <td>23618402</td>\n",
       "      <td>here:cm:segment:146671023</td>\n",
       "      <td>0.505531</td>\n",
       "      <td>-580988</td>\n",
       "    </tr>\n",
       "    <tr>\n",
       "      <th>4</th>\n",
       "      <td>23618402</td>\n",
       "      <td>here:cm:segment:146671023</td>\n",
       "      <td>0.523570</td>\n",
       "      <td>-335825</td>\n",
       "    </tr>\n",
       "    <tr>\n",
       "      <th>...</th>\n",
       "      <td>...</td>\n",
       "      <td>...</td>\n",
       "      <td>...</td>\n",
       "      <td>...</td>\n",
       "    </tr>\n",
       "    <tr>\n",
       "      <th>12471</th>\n",
       "      <td>23618403</td>\n",
       "      <td>here:cm:segment:633360724</td>\n",
       "      <td>0.277245</td>\n",
       "      <td>194712</td>\n",
       "    </tr>\n",
       "    <tr>\n",
       "      <th>12472</th>\n",
       "      <td>23618403</td>\n",
       "      <td>here:cm:segment:633360724</td>\n",
       "      <td>0.683705</td>\n",
       "      <td>221743</td>\n",
       "    </tr>\n",
       "    <tr>\n",
       "      <th>12473</th>\n",
       "      <td>23618403</td>\n",
       "      <td>here:cm:segment:82556515</td>\n",
       "      <td>0.435010</td>\n",
       "      <td>207740</td>\n",
       "    </tr>\n",
       "    <tr>\n",
       "      <th>12474</th>\n",
       "      <td>23618403</td>\n",
       "      <td>here:cm:segment:185061412</td>\n",
       "      <td>0.409011</td>\n",
       "      <td>226037</td>\n",
       "    </tr>\n",
       "    <tr>\n",
       "      <th>12475</th>\n",
       "      <td>23618403</td>\n",
       "      <td>here:cm:segment:204420701</td>\n",
       "      <td>0.350064</td>\n",
       "      <td>304774</td>\n",
       "    </tr>\n",
       "  </tbody>\n",
       "</table>\n",
       "<p>29860 rows × 4 columns</p>\n",
       "</div>"
      ],
      "text/plain": [
       "      partitionId                  segmentId    offset  curvature\n",
       "0        23618402  here:cm:segment:146671023  0.111594      11014\n",
       "1        23618402  here:cm:segment:146671023  0.246823    -202657\n",
       "2        23618402  here:cm:segment:146671023  0.262919    -186693\n",
       "3        23618402  here:cm:segment:146671023  0.505531    -580988\n",
       "4        23618402  here:cm:segment:146671023  0.523570    -335825\n",
       "...           ...                        ...       ...        ...\n",
       "12471    23618403  here:cm:segment:633360724  0.277245     194712\n",
       "12472    23618403  here:cm:segment:633360724  0.683705     221743\n",
       "12473    23618403   here:cm:segment:82556515  0.435010     207740\n",
       "12474    23618403  here:cm:segment:185061412  0.409011     226037\n",
       "12475    23618403  here:cm:segment:204420701  0.350064     304774\n",
       "\n",
       "[29860 rows x 4 columns]"
      ]
     },
     "execution_count": 13,
     "metadata": {},
     "output_type": "execute_result"
    }
   ],
   "source": [
    "# get segment curvatures (curvatures at the nodes are not used in this notebook example)\n",
    "segment_curvatures = []\n",
    "for pid in pids:\n",
    "    segment_curvature, node_curvature = hmc.adas_attributes.get_attribute(pid, \"curvature_heading\")\n",
    "    segment_curvatures.append(segment_curvature)\n",
    "segment_curvature_df = pd.concat(segment_curvatures)\n",
    "\n",
    "# create a column called curvature from attribute and drop attribute column\n",
    "segment_curvature_df[\"curvature\"] = segment_curvature_df.apply(lambda x: x[\"attribute\"].curvature, axis=1)\n",
    "segment_curvature_df = segment_curvature_df.drop(\"attribute\", axis=1)\n",
    "segment_curvature_df"
   ]
  },
  {
   "cell_type": "markdown",
   "metadata": {},
   "source": [
    "## Select segments with high curvatures"
   ]
  },
  {
   "cell_type": "code",
   "execution_count": 14,
   "metadata": {},
   "outputs": [],
   "source": [
    "# create a column called abs_curvature to calculate average curvature\n",
    "segment_curvature_df[\"abs_curvature\"] = segment_curvature_df.apply(lambda x: abs(x[\"curvature\"]), axis=1)\n",
    "average_curvature = segment_curvature_df[\"abs_curvature\"].mean()\n",
    "\n",
    "# select segments with curvature higher than average\n",
    "highcurv_segments = segment_curvature_df[segment_curvature_df[\"abs_curvature\"] > average_curvature]"
   ]
  },
  {
   "cell_type": "markdown",
   "metadata": {},
   "source": [
    "## Join two dataframes\n",
    "Inner join between the dataframe with FC=3,4,5 and the dataframe with high curvatures"
   ]
  },
  {
   "cell_type": "code",
   "execution_count": 15,
   "metadata": {},
   "outputs": [],
   "source": [
    "# join two dataframe\n",
    "segment_fc345_highcurv_df = segment_fc345_df.merge(highcurv_segments, on=[\"partitionId\", \"segmentId\"])"
   ]
  },
  {
   "cell_type": "code",
   "execution_count": 16,
   "metadata": {},
   "outputs": [
    {
     "data": {
      "text/plain": [
       "Index(['partitionId', 'start_node_ref', 'end_node_ref', 'geometry', 'length',\n",
       "       'segmentId', 'direction', 'start_offset', 'end_offset', 'fc', 'offset',\n",
       "       'curvature'],\n",
       "      dtype='object')"
      ]
     },
     "execution_count": 16,
     "metadata": {},
     "output_type": "execute_result"
    }
   ],
   "source": [
    "# drop abs_curvature which was used to calculate average curvature\n",
    "merged_df = segment_fc345_highcurv_df.drop(\"abs_curvature\", axis=1)\n",
    "merged_df.columns"
   ]
  },
  {
   "cell_type": "markdown",
   "metadata": {},
   "source": [
    "## Cleanup the merged dataframe\n",
    "After merging two dataframe above, the result was quite duplicated. We want to have entries with start_offset <= offset <= end_offset"
   ]
  },
  {
   "cell_type": "code",
   "execution_count": 17,
   "metadata": {},
   "outputs": [],
   "source": [
    "df = merged_df[((merged_df[\"start_offset\"] <= merged_df[\"offset\"]) &\n",
    "               (merged_df[\"offset\"] <= merged_df[\"end_offset\"]))]"
   ]
  },
  {
   "cell_type": "markdown",
   "metadata": {},
   "source": [
    "## Show the survived segments"
   ]
  },
  {
   "cell_type": "code",
   "execution_count": 18,
   "metadata": {},
   "outputs": [
    {
     "data": {
      "application/vnd.jupyter.widget-view+json": {
       "model_id": "7ab52d1b323744aca88afd4be5a9408a",
       "version_major": 2,
       "version_minor": 0
      },
      "text/plain": [
       "Map(center=[52.52017, 13.451274999999999], controls=(LayersControl(options=['position']), ZoomControl(options=…"
      ]
     },
     "metadata": {},
     "output_type": "display_data"
    }
   ],
   "source": [
    "inspect(df[\"geometry\"])"
   ]
  },
  {
   "cell_type": "markdown",
   "metadata": {},
   "source": [
    "<span style=\"float:left; margin-top:3px;\"><img src=\"https://www.here.com/themes/custom/here_base_theme_v2/logo.svg\" alt=\"HERE Logo\" height=\"60\" width=\"60\"></span><span style=\"float:right; width:90%;\"><sub><b>Copyright (c) 2020-2021 HERE Global B.V. and its affiliate(s). All rights reserved.</b>\n",
    "This software, including documentation, is protected by copyright controlled by HERE. All rights are reserved. Copying, including reproducing, storing, adapting or translating, any or all of this material requires the prior written consent of HERE. This material also contains confidential information which may not be disclosed to others without the prior written consent of HERE.</sub></span>"
   ]
  }
 ],
 "metadata": {
  "kernelspec": {
   "display_name": "Python 3 (ipykernel)",
   "language": "python",
   "name": "python3"
  },
  "language_info": {
   "codemirror_mode": {
    "name": "ipython",
    "version": 3
   },
   "file_extension": ".py",
   "mimetype": "text/x-python",
   "name": "python",
   "nbconvert_exporter": "python",
   "pygments_lexer": "ipython3",
   "version": "3.9.6"
  }
 },
 "nbformat": 4,
 "nbformat_minor": 2
}
